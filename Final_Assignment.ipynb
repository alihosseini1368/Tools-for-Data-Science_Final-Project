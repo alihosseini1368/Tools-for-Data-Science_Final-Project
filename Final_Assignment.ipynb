{
 "cells": [
  {
   "cell_type": "markdown",
   "metadata": {
    "collapsed": true
   },
   "source": [
    "# My Jupyter Notebook on IBM Watson Studio"
   ]
  },
  {
   "cell_type": "markdown",
   "metadata": {},
   "source": [
    "**Ali Hosseini**  \n",
    "I am a structural designer now and I want to be a data scientist."
   ]
  },
  {
   "cell_type": "markdown",
   "metadata": {},
   "source": [
    "*I decided to change my career, work in programming, and develop my skills to become a data scientist in order to both pursue my interest and earn a higher salary.*"
   ]
  },
  {
   "cell_type": "markdown",
   "metadata": {},
   "source": [
    "### The Following Code Prints the Length of a String"
   ]
  },
  {
   "cell_type": "code",
   "execution_count": 2,
   "metadata": {},
   "outputs": [
    {
     "name": "stdout",
     "output_type": "stream",
     "text": [
      "lenght of the string: 40\n"
     ]
    }
   ],
   "source": [
    "my_string = 'My Jupyter Notebook on IBM Watson Studio'\n",
    "print('lenght of the string:', len(my_string))"
   ]
  },
  {
   "cell_type": "markdown",
   "metadata": {},
   "source": [
    "* It's a bulleted list\n",
    "* IBM's Homepage's link is shown below.  \n",
    "[https://www.ibm.com](https://www.ibm.com \"IBM's Homepage\")\n",
    "* A table is given below.  \n",
    "\n",
    "Name | Age | Sex\n",
    "--- | --- | ---\n",
    "Ali | 33 | M\n",
    "Mahshid | 29 | F\n",
    "\n",
    "\n"
   ]
  }
 ],
 "metadata": {
  "kernelspec": {
   "display_name": "Python 3.9",
   "language": "python",
   "name": "python3"
  },
  "language_info": {
   "codemirror_mode": {
    "name": "ipython",
    "version": 3
   },
   "file_extension": ".py",
   "mimetype": "text/x-python",
   "name": "python",
   "nbconvert_exporter": "python",
   "pygments_lexer": "ipython3",
   "version": "3.9.13"
  }
 },
 "nbformat": 4,
 "nbformat_minor": 1
}
